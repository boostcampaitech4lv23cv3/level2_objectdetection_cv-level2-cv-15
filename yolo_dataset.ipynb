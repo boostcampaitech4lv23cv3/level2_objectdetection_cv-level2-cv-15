{
 "cells": [
  {
   "cell_type": "code",
   "execution_count": 1,
   "metadata": {},
   "outputs": [],
   "source": [
    "import json\n",
    "import os, shutil"
   ]
  },
  {
   "cell_type": "code",
   "execution_count": 23,
   "metadata": {},
   "outputs": [],
   "source": [
    "annotation = './dataset/K-fold_train5.json'\n",
    "\n",
    "with open(annotation) as f: \n",
    "    train = json.load(f)"
   ]
  },
  {
   "cell_type": "code",
   "execution_count": 24,
   "metadata": {},
   "outputs": [],
   "source": [
    "root = \"/opt/ml/dataset/train\"\n",
    "list_dir = os.listdir(root)"
   ]
  },
  {
   "cell_type": "code",
   "execution_count": 25,
   "metadata": {},
   "outputs": [],
   "source": [
    "for f_name in train[\"images\"]:\n",
    "    for file_name in list_dir:\n",
    "        if f_name[\"file_name\"][6:] == file_name:\n",
    "            file_to_copy = os.path.join(root, file_name)\n",
    "            shutil.copy(file_to_copy, \"/opt/ml/dataset/yolo_train5/train\") "
   ]
  },
  {
   "cell_type": "code",
   "execution_count": 26,
   "metadata": {},
   "outputs": [
    {
     "name": "stdout",
     "output_type": "stream",
     "text": [
      "Copy 3885 images\n",
      "Done.\n"
     ]
    }
   ],
   "source": [
    "num = len(train[\"images\"])\n",
    "if len(os.listdir(\"/opt/ml/dataset/yolo_train5/train\")) == num:\n",
    "    print(f\"Copy {num} images\")\n",
    "    print(\"Done.\")"
   ]
  },
  {
   "cell_type": "code",
   "execution_count": 27,
   "metadata": {},
   "outputs": [],
   "source": [
    "annotation = './dataset/K-fold_val5.json'\n",
    "\n",
    "with open(annotation) as f: \n",
    "    val = json.load(f)"
   ]
  },
  {
   "cell_type": "code",
   "execution_count": 28,
   "metadata": {},
   "outputs": [],
   "source": [
    "for f_name in val[\"images\"]:\n",
    "    for file_name in list_dir:\n",
    "        if f_name[\"file_name\"][6:] == file_name:\n",
    "            file_to_copy = os.path.join(root, file_name)\n",
    "            shutil.copy(file_to_copy, \"/opt/ml/dataset/yolo_val5/train\") "
   ]
  },
  {
   "cell_type": "code",
   "execution_count": 29,
   "metadata": {},
   "outputs": [
    {
     "name": "stdout",
     "output_type": "stream",
     "text": [
      "Copy 979 images\n",
      "Done.\n"
     ]
    }
   ],
   "source": [
    "num = len(val[\"images\"])\n",
    "if len(os.listdir(\"/opt/ml/dataset/yolo_val5/train\")) == num:\n",
    "    print(f\"Copy {num} images\")\n",
    "    print(\"Done.\")"
   ]
  },
  {
   "cell_type": "code",
   "execution_count": null,
   "metadata": {},
   "outputs": [],
   "source": []
  }
 ],
 "metadata": {
  "kernelspec": {
   "display_name": "detection",
   "language": "python",
   "name": "detection"
  },
  "language_info": {
   "codemirror_mode": {
    "name": "ipython",
    "version": 3
   },
   "file_extension": ".py",
   "mimetype": "text/x-python",
   "name": "python",
   "nbconvert_exporter": "python",
   "pygments_lexer": "ipython3",
   "version": "3.7.15"
  }
 },
 "nbformat": 4,
 "nbformat_minor": 4
}
